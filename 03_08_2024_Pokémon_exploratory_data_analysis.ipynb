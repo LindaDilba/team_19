{
  "nbformat": 4,
  "nbformat_minor": 0,
  "metadata": {
    "colab": {
      "provenance": [],
      "authorship_tag": "ABX9TyMUanal7lfjpNukggAnwszl",
      "include_colab_link": true
    },
    "kernelspec": {
      "name": "python3",
      "display_name": "Python 3"
    },
    "language_info": {
      "name": "python"
    }
  },
  "cells": [
    {
      "cell_type": "markdown",
      "metadata": {
        "id": "view-in-github",
        "colab_type": "text"
      },
      "source": [
        "<a href=\"https://colab.research.google.com/github/uneliiv/team_19/blob/main/03_08_2024_Pok%C3%A9mon_exploratory_data_analysis.ipynb\" target=\"_parent\"><img src=\"https://colab.research.google.com/assets/colab-badge.svg\" alt=\"Open In Colab\"/></a>"
      ]
    },
    {
      "cell_type": "code",
      "execution_count": null,
      "metadata": {
        "id": "Nw0tpbBXdXgp"
      },
      "outputs": [],
      "source": [
        "import math\n",
        "import pandas as pd #analysis\n",
        "import matplotlib.pyplot as plt #visual\n",
        "\n",
        "pokemon_df = pd.read_csv('/content/Pokemon.csv')\n",
        "\n",
        "water_type_percentage = (pokemon_df['Type 1'] == 'Water').mean() * 100\n",
        "rounded_percentage = math.ceil(water_type_percentage)\n",
        "print(f\"Percentage of Water type Pokémon: {rounded_percentage}%\")\n",
        "\n",
        "# 2. Maximum, minimum, and difference in 'Speed' values\n",
        "max_speed = pokemon_df['Speed'].max()\n",
        "min_speed = pokemon_df['Speed'].min()\n",
        "speed_difference = max_speed - min_speed\n",
        "print(f\"Maximum Speed: {max_speed}\")\n",
        "print(f\"Minimum Speed: {min_speed}\")\n",
        "print(f\"Difference between max and min Speed: {speed_difference}\")\n",
        "\n",
        "# 3. Filter the DataFrame to include only the Pokémon with 'Speed' >= 80\n",
        "high_speed_pokemon = pokemon_df[pokemon_df['Speed'] >= 80]\n",
        "high_speed_pokemon_count = high_speed_pokemon.shape[0]\n",
        "print(f\"Number of Pokémon with Speed >= 80: {high_speed_pokemon_count}\")\n",
        "\n",
        "# 4. Find Pokémon with the longest name (excluding spaces)\n",
        "pokemon_df['Name_no_spaces'] = pokemon_df['Name'].str.replace(' ', '')\n",
        "longest_name_pokemon = pokemon_df.loc[pokemon_df['Name_no_spaces'].str.len().idxmax()]['Name']\n",
        "print(f\"Pokemon with the longest name: {longest_name_pokemon}\")"
      ]
    }
  ]
}